{
 "cells": [
  {
   "cell_type": "markdown",
   "id": "73c63591",
   "metadata": {},
   "source": [
    "# 10 Seaborn Graphs"
   ]
  },
  {
   "cell_type": "code",
   "execution_count": null,
   "id": "5542ee0e",
   "metadata": {},
   "outputs": [],
   "source": [
    "# Importing required libraries\n",
    "import seaborn as sns\n",
    "import matplotlib.pyplot as plt\n",
    "import numpy as np\n",
    "import pandas as pd"
   ]
  },
  {
   "cell_type": "code",
   "execution_count": null,
   "id": "ddf38e6d",
   "metadata": {},
   "outputs": [],
   "source": [
    "# Load sample dataset\n",
    "df = sns.load_dataset('iris')\n",
    "df.head()"
   ]
  },
  {
   "cell_type": "code",
   "execution_count": null,
   "id": "8a0d925c",
   "metadata": {},
   "outputs": [],
   "source": [
    "# Scatter Plot\n",
    "sns.scatterplot(data=df, x='sepal_length', y='sepal_width', hue='species')\n",
    "plt.title('Scatter Plot of Sepal Length vs Width')\n",
    "plt.show()"
   ]
  },
  {
   "cell_type": "code",
   "execution_count": null,
   "id": "9e4ed6fb",
   "metadata": {},
   "outputs": [],
   "source": [
    "# Line Plot\n",
    "data = np.random.rand(10, 2)\n",
    "df_line = pd.DataFrame(data, columns=['x', 'y'])\n",
    "sns.lineplot(data=df_line, x='x', y='y')\n",
    "plt.title('Line Plot Example')\n",
    "plt.show()"
   ]
  },
  {
   "cell_type": "code",
   "execution_count": null,
   "id": "3f0040ee",
   "metadata": {},
   "outputs": [],
   "source": [
    "# Bar Plot\n",
    "sns.barplot(x=['A', 'B', 'C', 'D'], y=[3, 7, 1, 8], palette='pastel')\n",
    "plt.title('Bar Plot Example')\n",
    "plt.show()"
   ]
  },
  {
   "cell_type": "code",
   "execution_count": null,
   "id": "7e28d52a",
   "metadata": {},
   "outputs": [],
   "source": [
    "# Histogram\n",
    "sns.histplot(df['sepal_length'], bins=20, kde=True)\n",
    "plt.title('Histogram of Sepal Length')\n",
    "plt.show()"
   ]
  },
  {
   "cell_type": "code",
   "execution_count": null,
   "id": "2cb80b22",
   "metadata": {},
   "outputs": [],
   "source": [
    "# Box Plot\n",
    "sns.boxplot(x='species', y='sepal_length', data=df)\n",
    "plt.title('Box Plot of Sepal Length by Species')\n",
    "plt.show()"
   ]
  },
  {
   "cell_type": "code",
   "execution_count": null,
   "id": "431a4db1",
   "metadata": {},
   "outputs": [],
   "source": [
    "# Heatmap\n",
    "data = np.random.rand(10, 10)\n",
    "sns.heatmap(data, cmap='coolwarm', annot=True)\n",
    "plt.title('Heatmap Example')\n",
    "plt.show()"
   ]
  },
  {
   "cell_type": "code",
   "execution_count": null,
   "id": "8a1f4432",
   "metadata": {},
   "outputs": [],
   "source": [
    "# Pair Plot\n",
    "sns.pairplot(df, hue='species')\n",
    "plt.title('Pair Plot of Iris Dataset')\n",
    "plt.show()"
   ]
  },
  {
   "cell_type": "code",
   "execution_count": null,
   "id": "e3e4b3ed",
   "metadata": {},
   "outputs": [],
   "source": [
    "# Violin Plot\n",
    "sns.violinplot(x='species', y='sepal_length', data=df)\n",
    "plt.title('Violin Plot of Sepal Length by Species')\n",
    "plt.show()"
   ]
  }
 ],
 "metadata": {},
 "nbformat": 4,
 "nbformat_minor": 5
}
