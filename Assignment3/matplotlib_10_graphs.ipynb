{
 "cells": [
  {
   "cell_type": "markdown",
   "id": "a8a17284",
   "metadata": {},
   "source": [
    "# 10 Matplotlib Graphs"
   ]
  },
  {
   "cell_type": "code",
   "execution_count": null,
   "id": "460d4228",
   "metadata": {},
   "outputs": [],
   "source": [
    "# Importing required libraries\n",
    "import matplotlib.pyplot as plt\n",
    "import numpy as np"
   ]
  },
  {
   "cell_type": "code",
   "execution_count": null,
   "id": "5de194d3",
   "metadata": {},
   "outputs": [],
   "source": [
    "# Line Plot\n",
    "x = np.linspace(0, 10, 100)\n",
    "y = np.sin(x)\n",
    "plt.plot(x, y)\n",
    "plt.title('Sine Wave')\n",
    "plt.xlabel('X-axis')\n",
    "plt.ylabel('Y-axis')\n",
    "plt.show()"
   ]
  },
  {
   "cell_type": "code",
   "execution_count": null,
   "id": "e3e49230",
   "metadata": {},
   "outputs": [],
   "source": [
    "# Scatter Plot\n",
    "x = np.random.rand(50)\n",
    "y = np.random.rand(50)\n",
    "plt.scatter(x, y, c='red', alpha=0.5)\n",
    "plt.title('Random Scatter Plot')\n",
    "plt.show()"
   ]
  },
  {
   "cell_type": "code",
   "execution_count": null,
   "id": "ae0d3f4e",
   "metadata": {},
   "outputs": [],
   "source": [
    "# Bar Chart\n",
    "categories = ['A', 'B', 'C', 'D']\n",
    "values = [3, 7, 1, 8]\n",
    "plt.bar(categories, values, color='green')\n",
    "plt.title('Bar Chart Example')\n",
    "plt.show()"
   ]
  },
  {
   "cell_type": "code",
   "execution_count": null,
   "id": "6aa31172",
   "metadata": {},
   "outputs": [],
   "source": [
    "# Histogram\n",
    "data = np.random.randn(1000)\n",
    "plt.hist(data, bins=30, color='blue', alpha=0.7)\n",
    "plt.title('Histogram of Random Data')\n",
    "plt.show()"
   ]
  },
  {
   "cell_type": "code",
   "execution_count": null,
   "id": "6d6198b6",
   "metadata": {},
   "outputs": [],
   "source": [
    "# Pie Chart\n",
    "sizes = [15, 30, 45, 10]\n",
    "labels = ['A', 'B', 'C', 'D']\n",
    "plt.pie(sizes, labels=labels, autopct='%1.1f%%', startangle=90)\n",
    "plt.title('Pie Chart Example')\n",
    "plt.show()"
   ]
  },
  {
   "cell_type": "code",
   "execution_count": null,
   "id": "7428a35e",
   "metadata": {},
   "outputs": [],
   "source": [
    "# Box Plot\n",
    "data = [np.random.randn(100), np.random.randn(100) + 2, np.random.randn(100) - 2]\n",
    "plt.boxplot(data)\n",
    "plt.title('Box Plot Example')\n",
    "plt.show()"
   ]
  },
  {
   "cell_type": "code",
   "execution_count": null,
   "id": "c09a9a5c",
   "metadata": {},
   "outputs": [],
   "source": [
    "# Multiple Line Plot\n",
    "x = np.linspace(0, 10, 100)\n",
    "plt.plot(x, np.sin(x), label='Sine')\n",
    "plt.plot(x, np.cos(x), label='Cosine')\n",
    "plt.legend()\n",
    "plt.title('Multiple Line Plot')\n",
    "plt.show()"
   ]
  },
  {
   "cell_type": "code",
   "execution_count": null,
   "id": "531be0f9",
   "metadata": {},
   "outputs": [],
   "source": [
    "# Heatmap (Using imshow)\n",
    "data = np.random.rand(10, 10)\n",
    "plt.imshow(data, cmap='coolwarm', interpolation='nearest')\n",
    "plt.colorbar()\n",
    "plt.title('Heatmap Example')\n",
    "plt.show()"
   ]
  },
  {
   "cell_type": "code",
   "execution_count": null,
   "id": "e1658c54",
   "metadata": {},
   "outputs": [],
   "source": [
    "# Subplots\n",
    "fig, ax = plt.subplots(2, 2, figsize=(10, 6))\n",
    "x = np.linspace(0, 10, 100)\n",
    "ax[0, 0].plot(x, np.sin(x))\n",
    "ax[0, 1].scatter(x, np.cos(x))\n",
    "ax[1, 0].bar(['A', 'B', 'C'], [3, 5, 7])\n",
    "ax[1, 1].hist(np.random.randn(100), bins=20)\n",
    "plt.tight_layout()\n",
    "plt.show()"
   ]
  }
 ],
 "metadata": {},
 "nbformat": 4,
 "nbformat_minor": 5
}
