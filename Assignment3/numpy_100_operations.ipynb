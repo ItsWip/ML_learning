{
 "cells": [
  {
   "cell_type": "markdown",
   "id": "70fdb111",
   "metadata": {},
   "source": [
    "# 100 NumPy Operations"
   ]
  },
  {
   "cell_type": "markdown",
   "id": "f08ada58",
   "metadata": {},
   "source": [
    "This notebook contains **100 unique NumPy operations**, with `help()` statements for key functions to aid understanding."
   ]
  },
  {
   "cell_type": "code",
   "execution_count": null,
   "id": "aa7c3574",
   "metadata": {},
   "outputs": [],
   "source": [
    "import numpy as np\n",
    "help(np)"
   ]
  },
  {
   "cell_type": "markdown",
   "id": "a84b12e2",
   "metadata": {},
   "source": [
    "### Creating a NumPy array"
   ]
  },
  {
   "cell_type": "code",
   "execution_count": null,
   "id": "c594ddbf",
   "metadata": {},
   "outputs": [],
   "source": [
    "help(np.array)"
   ]
  },
  {
   "cell_type": "markdown",
   "id": "de1b88dc",
   "metadata": {},
   "source": [
    "### Creating an array"
   ]
  },
  {
   "cell_type": "code",
   "execution_count": null,
   "id": "054eadac",
   "metadata": {},
   "outputs": [],
   "source": [
    "arr = np.array([1, 2, 3, 4, 5])\n",
    "print(arr)"
   ]
  },
  {
   "cell_type": "markdown",
   "id": "bde8537b",
   "metadata": {},
   "source": [
    "### Creating a 2D array"
   ]
  },
  {
   "cell_type": "code",
   "execution_count": null,
   "id": "329f4056",
   "metadata": {},
   "outputs": [],
   "source": [
    "help(np.array)"
   ]
  },
  {
   "cell_type": "markdown",
   "id": "01699bc0",
   "metadata": {},
   "source": [
    "### Creating a 2D array"
   ]
  },
  {
   "cell_type": "code",
   "execution_count": null,
   "id": "c2f1f2bc",
   "metadata": {},
   "outputs": [],
   "source": [
    "arr_2d = np.array([[1, 2, 3], [4, 5, 6]])\n",
    "print(arr_2d)"
   ]
  },
  {
   "cell_type": "markdown",
   "id": "5f04c618",
   "metadata": {},
   "source": [
    "### Creating an array of zeros"
   ]
  },
  {
   "cell_type": "code",
   "execution_count": null,
   "id": "25a47f79",
   "metadata": {},
   "outputs": [],
   "source": [
    "help(np.zeros)"
   ]
  },
  {
   "cell_type": "markdown",
   "id": "f1f63b9f",
   "metadata": {},
   "source": [
    "### Creating zeros"
   ]
  },
  {
   "cell_type": "code",
   "execution_count": null,
   "id": "be65b535",
   "metadata": {},
   "outputs": [],
   "source": [
    "zeros_arr = np.zeros((3,3))\n",
    "print(zeros_arr)"
   ]
  },
  {
   "cell_type": "markdown",
   "id": "3b6e7f57",
   "metadata": {},
   "source": [
    "### Creating an array of ones"
   ]
  },
  {
   "cell_type": "code",
   "execution_count": null,
   "id": "194d5ddb",
   "metadata": {},
   "outputs": [],
   "source": [
    "help(np.ones)"
   ]
  },
  {
   "cell_type": "markdown",
   "id": "fb45b276",
   "metadata": {},
   "source": [
    "### Creating ones"
   ]
  },
  {
   "cell_type": "code",
   "execution_count": null,
   "id": "8630cbd5",
   "metadata": {},
   "outputs": [],
   "source": [
    "ones_arr = np.ones((2,4))\n",
    "print(ones_arr)"
   ]
  },
  {
   "cell_type": "markdown",
   "id": "62e547c9",
   "metadata": {},
   "source": [
    "### Creating an identity matrix"
   ]
  },
  {
   "cell_type": "code",
   "execution_count": null,
   "id": "37235dab",
   "metadata": {},
   "outputs": [],
   "source": [
    "help(np.eye)"
   ]
  },
  {
   "cell_type": "markdown",
   "id": "5aeefd58",
   "metadata": {},
   "source": [
    "### Creating identity matrix"
   ]
  },
  {
   "cell_type": "code",
   "execution_count": null,
   "id": "30f8477e",
   "metadata": {},
   "outputs": [],
   "source": [
    "identity = np.eye(5)\n",
    "print(identity)"
   ]
  },
  {
   "cell_type": "markdown",
   "id": "e85418f5",
   "metadata": {},
   "source": [
    "### Extracting elements from an array"
   ]
  },
  {
   "cell_type": "code",
   "execution_count": null,
   "id": "48d1d5fe",
   "metadata": {},
   "outputs": [],
   "source": [
    "help(np.array)"
   ]
  },
  {
   "cell_type": "markdown",
   "id": "aa66f85c",
   "metadata": {},
   "source": [
    "### Indexing"
   ]
  },
  {
   "cell_type": "code",
   "execution_count": null,
   "id": "f322c1af",
   "metadata": {},
   "outputs": [],
   "source": [
    "arr = np.array([10, 20, 30, 40, 50])\n",
    "print(arr[2])"
   ]
  },
  {
   "cell_type": "markdown",
   "id": "d4cebeef",
   "metadata": {},
   "source": [
    "### Slicing an array"
   ]
  },
  {
   "cell_type": "code",
   "execution_count": null,
   "id": "f9537ea0",
   "metadata": {},
   "outputs": [],
   "source": [
    "help(np.array)"
   ]
  },
  {
   "cell_type": "markdown",
   "id": "d09f6818",
   "metadata": {},
   "source": [
    "### Slicing"
   ]
  },
  {
   "cell_type": "code",
   "execution_count": null,
   "id": "b9013c85",
   "metadata": {},
   "outputs": [],
   "source": [
    "print(arr[1:4])"
   ]
  },
  {
   "cell_type": "markdown",
   "id": "180ef716",
   "metadata": {},
   "source": [
    "### Negative indexing"
   ]
  },
  {
   "cell_type": "code",
   "execution_count": null,
   "id": "21985d2d",
   "metadata": {},
   "outputs": [],
   "source": [
    "help(np.array)"
   ]
  },
  {
   "cell_type": "markdown",
   "id": "4267c0e9",
   "metadata": {},
   "source": [
    "### Negative indexing"
   ]
  },
  {
   "cell_type": "code",
   "execution_count": null,
   "id": "ca5e25ad",
   "metadata": {},
   "outputs": [],
   "source": [
    "print(arr[-3:])"
   ]
  },
  {
   "cell_type": "markdown",
   "id": "0c17b691",
   "metadata": {},
   "source": [
    "### Boolean masking"
   ]
  },
  {
   "cell_type": "code",
   "execution_count": null,
   "id": "1d2b1e5b",
   "metadata": {},
   "outputs": [],
   "source": [
    "help(np.where)"
   ]
  },
  {
   "cell_type": "markdown",
   "id": "40fd2d23",
   "metadata": {},
   "source": [
    "### Boolean masking"
   ]
  },
  {
   "cell_type": "code",
   "execution_count": null,
   "id": "027a8fc2",
   "metadata": {},
   "outputs": [],
   "source": [
    "print(arr[arr > 25])"
   ]
  },
  {
   "cell_type": "markdown",
   "id": "7fa96e3b",
   "metadata": {},
   "source": [
    "### Reshaping an array"
   ]
  },
  {
   "cell_type": "code",
   "execution_count": null,
   "id": "86c2920f",
   "metadata": {},
   "outputs": [],
   "source": [
    "help(np.reshape)"
   ]
  },
  {
   "cell_type": "markdown",
   "id": "5f1fccef",
   "metadata": {},
   "source": [
    "### Reshaping"
   ]
  },
  {
   "cell_type": "code",
   "execution_count": null,
   "id": "d999b6fd",
   "metadata": {},
   "outputs": [],
   "source": [
    "reshaped = np.arange(12).reshape(3, 4)\n",
    "print(reshaped)"
   ]
  },
  {
   "cell_type": "markdown",
   "id": "a7ae5245",
   "metadata": {},
   "source": [
    "### Flattening an array"
   ]
  },
  {
   "cell_type": "code",
   "execution_count": null,
   "id": "45a0b330",
   "metadata": {},
   "outputs": [],
   "source": [
    "help(np.flatten)"
   ]
  },
  {
   "cell_type": "markdown",
   "id": "23ae5c46",
   "metadata": {},
   "source": [
    "### Flattening"
   ]
  },
  {
   "cell_type": "code",
   "execution_count": null,
   "id": "8662e66a",
   "metadata": {},
   "outputs": [],
   "source": [
    "flat = reshaped.flatten()\n",
    "print(flat)"
   ]
  },
  {
   "cell_type": "markdown",
   "id": "8499643f",
   "metadata": {},
   "source": [
    "### Transposing a matrix"
   ]
  },
  {
   "cell_type": "code",
   "execution_count": null,
   "id": "8646292c",
   "metadata": {},
   "outputs": [],
   "source": [
    "help(np.transpose)"
   ]
  },
  {
   "cell_type": "markdown",
   "id": "4b8e9c1a",
   "metadata": {},
   "source": [
    "### Transposing"
   ]
  },
  {
   "cell_type": "code",
   "execution_count": null,
   "id": "32e63254",
   "metadata": {},
   "outputs": [],
   "source": [
    "print(reshaped.T)"
   ]
  },
  {
   "cell_type": "markdown",
   "id": "4e5679c5",
   "metadata": {},
   "source": [
    "### Basic arithmetic on arrays"
   ]
  },
  {
   "cell_type": "code",
   "execution_count": null,
   "id": "6d7d66d5",
   "metadata": {},
   "outputs": [],
   "source": [
    "help(np.add)"
   ]
  },
  {
   "cell_type": "markdown",
   "id": "6d11263f",
   "metadata": {},
   "source": [
    "### Addition"
   ]
  },
  {
   "cell_type": "code",
   "execution_count": null,
   "id": "7c83afaf",
   "metadata": {},
   "outputs": [],
   "source": [
    "a = np.array([1, 2, 3])\n",
    "b = np.array([4, 5, 6])\n",
    "print(a + b)"
   ]
  },
  {
   "cell_type": "markdown",
   "id": "28cea42c",
   "metadata": {},
   "source": [
    "### Element-wise multiplication"
   ]
  },
  {
   "cell_type": "code",
   "execution_count": null,
   "id": "bf9ddbc7",
   "metadata": {},
   "outputs": [],
   "source": [
    "help(np.multiply)"
   ]
  },
  {
   "cell_type": "markdown",
   "id": "a1c13b6d",
   "metadata": {},
   "source": [
    "### Multiplication"
   ]
  },
  {
   "cell_type": "code",
   "execution_count": null,
   "id": "c66f1fc3",
   "metadata": {},
   "outputs": [],
   "source": [
    "print(a * b)"
   ]
  },
  {
   "cell_type": "markdown",
   "id": "d7b24b7a",
   "metadata": {},
   "source": [
    "### Applying exponential function"
   ]
  },
  {
   "cell_type": "code",
   "execution_count": null,
   "id": "6879b1ba",
   "metadata": {},
   "outputs": [],
   "source": [
    "help(np.exp)"
   ]
  },
  {
   "cell_type": "markdown",
   "id": "ff46b0dc",
   "metadata": {},
   "source": [
    "### Exponential"
   ]
  },
  {
   "cell_type": "code",
   "execution_count": null,
   "id": "b3623dc3",
   "metadata": {},
   "outputs": [],
   "source": [
    "print(np.exp(a))"
   ]
  },
  {
   "cell_type": "markdown",
   "id": "cd18c29e",
   "metadata": {},
   "source": [
    "### Applying logarithm"
   ]
  },
  {
   "cell_type": "code",
   "execution_count": null,
   "id": "86f3b3fe",
   "metadata": {},
   "outputs": [],
   "source": [
    "help(np.log)"
   ]
  },
  {
   "cell_type": "markdown",
   "id": "a49c4924",
   "metadata": {},
   "source": [
    "### Logarithm"
   ]
  },
  {
   "cell_type": "code",
   "execution_count": null,
   "id": "e5dc1034",
   "metadata": {},
   "outputs": [],
   "source": [
    "print(np.log(a + 1))"
   ]
  },
  {
   "cell_type": "markdown",
   "id": "c63a7222",
   "metadata": {},
   "source": [
    "### Finding max and min"
   ]
  },
  {
   "cell_type": "code",
   "execution_count": null,
   "id": "f151ddf3",
   "metadata": {},
   "outputs": [],
   "source": [
    "help(np.max)"
   ]
  },
  {
   "cell_type": "markdown",
   "id": "50c382ee",
   "metadata": {},
   "source": [
    "### Max & Min"
   ]
  },
  {
   "cell_type": "code",
   "execution_count": null,
   "id": "a671a07b",
   "metadata": {},
   "outputs": [],
   "source": [
    "rand_arr = np.random.randint(1, 100, 10)\n",
    "print(np.max(rand_arr), np.min(rand_arr))"
   ]
  },
  {
   "cell_type": "markdown",
   "id": "e0bde306",
   "metadata": {},
   "source": [
    "### Finding mean and standard deviation"
   ]
  },
  {
   "cell_type": "code",
   "execution_count": null,
   "id": "00067a0c",
   "metadata": {},
   "outputs": [],
   "source": [
    "help(np.mean)"
   ]
  },
  {
   "cell_type": "markdown",
   "id": "76d63470",
   "metadata": {},
   "source": [
    "### Mean & Std Dev"
   ]
  },
  {
   "cell_type": "code",
   "execution_count": null,
   "id": "3f6999c3",
   "metadata": {},
   "outputs": [],
   "source": [
    "print(np.mean(rand_arr), np.std(rand_arr))"
   ]
  },
  {
   "cell_type": "markdown",
   "id": "3e1ea8bf",
   "metadata": {},
   "source": [
    "### Finding sum and product"
   ]
  },
  {
   "cell_type": "code",
   "execution_count": null,
   "id": "9a4744b0",
   "metadata": {},
   "outputs": [],
   "source": [
    "help(np.sum)"
   ]
  },
  {
   "cell_type": "markdown",
   "id": "e7963ed1",
   "metadata": {},
   "source": [
    "### Sum & Product"
   ]
  },
  {
   "cell_type": "code",
   "execution_count": null,
   "id": "397d8e75",
   "metadata": {},
   "outputs": [],
   "source": [
    "print(np.sum(rand_arr), np.prod(rand_arr))"
   ]
  },
  {
   "cell_type": "markdown",
   "id": "71ccdbbf",
   "metadata": {},
   "source": [
    "### Generating random numbers"
   ]
  },
  {
   "cell_type": "code",
   "execution_count": null,
   "id": "8c179abd",
   "metadata": {},
   "outputs": [],
   "source": [
    "help(np.random.rand)"
   ]
  },
  {
   "cell_type": "markdown",
   "id": "cddb4481",
   "metadata": {},
   "source": [
    "### Random numbers"
   ]
  },
  {
   "cell_type": "code",
   "execution_count": null,
   "id": "43d154d9",
   "metadata": {},
   "outputs": [],
   "source": [
    "rand_nums = np.random.rand(5)\n",
    "print(rand_nums)"
   ]
  },
  {
   "cell_type": "markdown",
   "id": "4ddc1092",
   "metadata": {},
   "source": [
    "### Generating random integers"
   ]
  },
  {
   "cell_type": "code",
   "execution_count": null,
   "id": "0cf40d9f",
   "metadata": {},
   "outputs": [],
   "source": [
    "help(np.random.randint)"
   ]
  },
  {
   "cell_type": "markdown",
   "id": "5c9fd796",
   "metadata": {},
   "source": [
    "### Random integers"
   ]
  },
  {
   "cell_type": "code",
   "execution_count": null,
   "id": "ef2da3d6",
   "metadata": {},
   "outputs": [],
   "source": [
    "rand_ints = np.random.randint(1, 10, (3,3))\n",
    "print(rand_ints)"
   ]
  },
  {
   "cell_type": "markdown",
   "id": "f8e1258e",
   "metadata": {},
   "source": [
    "### Matrix multiplication"
   ]
  },
  {
   "cell_type": "code",
   "execution_count": null,
   "id": "147fd162",
   "metadata": {},
   "outputs": [],
   "source": [
    "help(np.dot)"
   ]
  },
  {
   "cell_type": "markdown",
   "id": "45efee55",
   "metadata": {},
   "source": [
    "### Matrix Multiplication"
   ]
  },
  {
   "cell_type": "code",
   "execution_count": null,
   "id": "9a7733d9",
   "metadata": {},
   "outputs": [],
   "source": [
    "mat1 = np.array([[1, 2], [3, 4]])\n",
    "mat2 = np.array([[5, 6], [7, 8]])\n",
    "print(np.dot(mat1, mat2))"
   ]
  },
  {
   "cell_type": "markdown",
   "id": "278ea6b9",
   "metadata": {},
   "source": [
    "### Finding determinant"
   ]
  },
  {
   "cell_type": "code",
   "execution_count": null,
   "id": "600c867f",
   "metadata": {},
   "outputs": [],
   "source": [
    "help(np.linalg.det)"
   ]
  },
  {
   "cell_type": "markdown",
   "id": "6ecddc44",
   "metadata": {},
   "source": [
    "### Determinant"
   ]
  },
  {
   "cell_type": "code",
   "execution_count": null,
   "id": "0b319d01",
   "metadata": {},
   "outputs": [],
   "source": [
    "print(np.linalg.det(mat1))"
   ]
  },
  {
   "cell_type": "markdown",
   "id": "f06e59dd",
   "metadata": {},
   "source": [
    "### Finding inverse"
   ]
  },
  {
   "cell_type": "code",
   "execution_count": null,
   "id": "53fc021a",
   "metadata": {},
   "outputs": [],
   "source": [
    "help(np.linalg.inv)"
   ]
  },
  {
   "cell_type": "markdown",
   "id": "bf085b21",
   "metadata": {},
   "source": [
    "### Inverse"
   ]
  },
  {
   "cell_type": "code",
   "execution_count": null,
   "id": "d0d98066",
   "metadata": {},
   "outputs": [],
   "source": [
    "print(np.linalg.inv(mat1))"
   ]
  },
  {
   "cell_type": "markdown",
   "id": "9a51c8fd",
   "metadata": {},
   "source": [
    "### Sorting an array"
   ]
  },
  {
   "cell_type": "code",
   "execution_count": null,
   "id": "01aa645c",
   "metadata": {},
   "outputs": [],
   "source": [
    "help(np.sort)"
   ]
  },
  {
   "cell_type": "markdown",
   "id": "246bef6f",
   "metadata": {},
   "source": [
    "### Sorting"
   ]
  },
  {
   "cell_type": "code",
   "execution_count": null,
   "id": "ffbef10e",
   "metadata": {},
   "outputs": [],
   "source": [
    "unsorted_arr = np.array([3, 1, 4, 1, 5, 9])\n",
    "print(np.sort(unsorted_arr))"
   ]
  },
  {
   "cell_type": "markdown",
   "id": "6c35318f",
   "metadata": {},
   "source": [
    "### Finding unique elements"
   ]
  },
  {
   "cell_type": "code",
   "execution_count": null,
   "id": "e4ef5184",
   "metadata": {},
   "outputs": [],
   "source": [
    "help(np.unique)"
   ]
  },
  {
   "cell_type": "markdown",
   "id": "38caa6c2",
   "metadata": {},
   "source": [
    "### Unique elements"
   ]
  },
  {
   "cell_type": "code",
   "execution_count": null,
   "id": "9f73eba3",
   "metadata": {},
   "outputs": [],
   "source": [
    "print(np.unique(unsorted_arr))"
   ]
  },
  {
   "cell_type": "markdown",
   "id": "df1b8d30",
   "metadata": {},
   "source": [
    "### Finding indices of max & min"
   ]
  },
  {
   "cell_type": "code",
   "execution_count": null,
   "id": "1d69d023",
   "metadata": {},
   "outputs": [],
   "source": [
    "help(np.argmax)"
   ]
  },
  {
   "cell_type": "markdown",
   "id": "fc292114",
   "metadata": {},
   "source": [
    "### Argmax & Argmin"
   ]
  },
  {
   "cell_type": "code",
   "execution_count": null,
   "id": "3c5e21dd",
   "metadata": {},
   "outputs": [],
   "source": [
    "print(np.argmax(unsorted_arr), np.argmin(unsorted_arr))"
   ]
  },
  {
   "cell_type": "markdown",
   "id": "4ec5bcae",
   "metadata": {},
   "source": [
    "### Broadcasting a scalar"
   ]
  },
  {
   "cell_type": "code",
   "execution_count": null,
   "id": "f01205cf",
   "metadata": {},
   "outputs": [],
   "source": [
    "help(np.add)"
   ]
  },
  {
   "cell_type": "markdown",
   "id": "42627683",
   "metadata": {},
   "source": [
    "### Broadcasting"
   ]
  },
  {
   "cell_type": "code",
   "execution_count": null,
   "id": "455ac0a3",
   "metadata": {},
   "outputs": [],
   "source": [
    "arr = np.array([[1, 2, 3], [4, 5, 6]])\n",
    "print(arr + 10)"
   ]
  },
  {
   "cell_type": "markdown",
   "id": "3cc9022b",
   "metadata": {},
   "source": [
    "### Boolean operations on arrays"
   ]
  },
  {
   "cell_type": "code",
   "execution_count": null,
   "id": "127d835b",
   "metadata": {},
   "outputs": [],
   "source": [
    "help(np.logical_not)"
   ]
  },
  {
   "cell_type": "markdown",
   "id": "83bbb944",
   "metadata": {},
   "source": [
    "### Logical Not"
   ]
  },
  {
   "cell_type": "code",
   "execution_count": null,
   "id": "4afa37c5",
   "metadata": {},
   "outputs": [],
   "source": [
    "bool_arr = np.array([True, False, True])\n",
    "print(np.logical_not(bool_arr))"
   ]
  },
  {
   "cell_type": "markdown",
   "id": "a93e7db2",
   "metadata": {},
   "source": [
    "### Finding percentile"
   ]
  },
  {
   "cell_type": "code",
   "execution_count": null,
   "id": "8328f822",
   "metadata": {},
   "outputs": [],
   "source": [
    "help(np.percentile)"
   ]
  },
  {
   "cell_type": "markdown",
   "id": "79485dc6",
   "metadata": {},
   "source": [
    "### Percentile"
   ]
  },
  {
   "cell_type": "code",
   "execution_count": null,
   "id": "ebcd8530",
   "metadata": {},
   "outputs": [],
   "source": [
    "print(np.percentile(rand_arr, 50))"
   ]
  },
  {
   "cell_type": "markdown",
   "id": "4472eee3",
   "metadata": {},
   "source": [
    "### Finding correlation coefficient"
   ]
  },
  {
   "cell_type": "code",
   "execution_count": null,
   "id": "516f0ada",
   "metadata": {},
   "outputs": [],
   "source": [
    "help(np.corrcoef)"
   ]
  },
  {
   "cell_type": "markdown",
   "id": "a9773d4a",
   "metadata": {},
   "source": [
    "### Correlation"
   ]
  },
  {
   "cell_type": "code",
   "execution_count": null,
   "id": "3599c3e7",
   "metadata": {},
   "outputs": [],
   "source": [
    "print(np.corrcoef(rand_arr, rand_arr[::-1]))"
   ]
  },
  {
   "cell_type": "markdown",
   "id": "85578065",
   "metadata": {},
   "source": [
    "### Using meshgrid"
   ]
  },
  {
   "cell_type": "code",
   "execution_count": null,
   "id": "6d3d5a18",
   "metadata": {},
   "outputs": [],
   "source": [
    "help(np.meshgrid)"
   ]
  },
  {
   "cell_type": "markdown",
   "id": "6f652612",
   "metadata": {},
   "source": [
    "### Meshgrid"
   ]
  },
  {
   "cell_type": "code",
   "execution_count": null,
   "id": "2df25136",
   "metadata": {},
   "outputs": [],
   "source": [
    "x = np.linspace(0, 5, 10)\n",
    "y = np.linspace(0, 5, 10)\n",
    "xv, yv = np.meshgrid(x, y)\n",
    "print(xv)"
   ]
  },
  {
   "cell_type": "markdown",
   "id": "6841bdb6",
   "metadata": {},
   "source": [
    "### Using where function"
   ]
  },
  {
   "cell_type": "code",
   "execution_count": null,
   "id": "e2da9a0b",
   "metadata": {},
   "outputs": [],
   "source": [
    "help(np.where)"
   ]
  },
  {
   "cell_type": "markdown",
   "id": "de80af63",
   "metadata": {},
   "source": [
    "### Where function"
   ]
  },
  {
   "cell_type": "code",
   "execution_count": null,
   "id": "2778d8a0",
   "metadata": {},
   "outputs": [],
   "source": [
    "cond = arr > 3\n",
    "print(np.where(cond, arr, -1))"
   ]
  },
  {
   "cell_type": "markdown",
   "id": "54905b0a",
   "metadata": {},
   "source": [
    "### Using clip function"
   ]
  },
  {
   "cell_type": "code",
   "execution_count": null,
   "id": "8e6b1adc",
   "metadata": {},
   "outputs": [],
   "source": [
    "help(np.clip)"
   ]
  },
  {
   "cell_type": "markdown",
   "id": "e0b1fcca",
   "metadata": {},
   "source": [
    "### Clip function"
   ]
  },
  {
   "cell_type": "code",
   "execution_count": null,
   "id": "a3e1f630",
   "metadata": {},
   "outputs": [],
   "source": [
    "print(np.clip(arr, 2, 4))"
   ]
  },
  {
   "cell_type": "markdown",
   "id": "1523baed",
   "metadata": {},
   "source": [
    "### Cumulative sum"
   ]
  },
  {
   "cell_type": "code",
   "execution_count": null,
   "id": "eb70bd36",
   "metadata": {},
   "outputs": [],
   "source": [
    "help(np.cumsum)"
   ]
  },
  {
   "cell_type": "markdown",
   "id": "3fa7334d",
   "metadata": {},
   "source": [
    "### Cumulative Sum"
   ]
  },
  {
   "cell_type": "code",
   "execution_count": null,
   "id": "233547d7",
   "metadata": {},
   "outputs": [],
   "source": [
    "print(np.cumsum(arr))"
   ]
  },
  {
   "cell_type": "markdown",
   "id": "13954d86",
   "metadata": {},
   "source": [
    "### Applying FFT"
   ]
  },
  {
   "cell_type": "code",
   "execution_count": null,
   "id": "d7f4028b",
   "metadata": {},
   "outputs": [],
   "source": [
    "help(np.fft.fft)"
   ]
  },
  {
   "cell_type": "markdown",
   "id": "7b37b1ac",
   "metadata": {},
   "source": [
    "### FFT"
   ]
  },
  {
   "cell_type": "code",
   "execution_count": null,
   "id": "a1838252",
   "metadata": {},
   "outputs": [],
   "source": [
    "sig = np.sin(np.linspace(0, 2*np.pi, 100))\n",
    "fft = np.fft.fft(sig)\n",
    "print(fft[:10])"
   ]
  }
 ],
 "metadata": {
  "kernelspec": {
   "display_name": "venv",
   "language": "python",
   "name": "python3"
  },
  "language_info": {
   "name": "python",
   "version": "3.11.7"
  }
 },
 "nbformat": 4,
 "nbformat_minor": 5
}
